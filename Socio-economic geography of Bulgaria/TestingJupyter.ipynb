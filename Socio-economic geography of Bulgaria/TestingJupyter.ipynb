{
 "cells": [
  {
   "cell_type": "code",
   "execution_count": null,
   "id": "2e364802",
   "metadata": {},
   "outputs": [
    {
     "data": {
      "text/html": [
       "<div>\n",
       "<style scoped>\n",
       "    .dataframe tbody tr th:only-of-type {\n",
       "        vertical-align: middle;\n",
       "    }\n",
       "\n",
       "    .dataframe tbody tr th {\n",
       "        vertical-align: top;\n",
       "    }\n",
       "\n",
       "    .dataframe thead th {\n",
       "        text-align: right;\n",
       "    }\n",
       "</style>\n",
       "<table border=\"1\" class=\"dataframe\">\n",
       "  <thead>\n",
       "    <tr style=\"text-align: right;\">\n",
       "      <th></th>\n",
       "      <th>City</th>\n",
       "    </tr>\n",
       "  </thead>\n",
       "  <tbody>\n",
       "    <tr>\n",
       "      <th>2</th>\n",
       "      <td>Varna</td>\n",
       "    </tr>\n",
       "    <tr>\n",
       "      <th>8</th>\n",
       "      <td>Dobrich</td>\n",
       "    </tr>\n",
       "    <tr>\n",
       "      <th>10</th>\n",
       "      <td>Shumen</td>\n",
       "    </tr>\n",
       "  </tbody>\n",
       "</table>\n",
       "</div>"
      ],
      "text/plain": [
       "       City\n",
       "2     Varna\n",
       "8   Dobrich\n",
       "10   Shumen"
      ]
     },
     "execution_count": 40,
     "metadata": {},
     "output_type": "execute_result"
    }
   ],
   "source": [
    "import pandas as pd\n",
    "import matplotlib.pyplot as plt\n",
    "\n",
    "\n",
    "# ! Data from National Statistical Institute (NSI) & Eurostat\n",
    "citiesBulgariaOg = pd.read_csv(\"./citiesBulgaria.csv\")\n",
    "\n",
    "citiesBulgariaOg[\"Growth_perc\"] = ((citiesBulgariaOg[\"Population_2020\"] - citiesBulgariaOg[\"Population_2010\"]) / citiesBulgariaOg[\"Population_2010\"]) * 100\n",
    "\n",
    "# citiesBulgariaOg\n",
    "\n",
    "#=====================#\n",
    "\n",
    "# ! Create a new dataset, ordered by Population_2020 in DESC order\n",
    "citiesBgSortedPop2020Desc = citiesBulgariaOg.sort_values(by=\"Population_2020\", ascending=False)\n",
    "\n",
    "# ! SELECT col1, col2, col3... FROM\n",
    "citiesBgSortedPop2020Desc[[\"City\", \"Growth_perc\", \"Population_2010\", \"Population_2020\"]]\n",
    "\n",
    "# ! SELECT * FROM ... Where Region = 'Northeast'\n",
    "citiesBgSortedPop2020Desc[citiesBgSortedPop2020Desc[\"Region\"] == \"Northeast\"]\n",
    "\n",
    "#=====================#\n",
    "\n",
    "# Create a bar chart: city vs. population in 2020\n",
    "# plt.figure(figsize=(8, 5))\n",
    "# plt.bar(citiesBgSortedPop2020Desc[\"City\"], citiesBgSortedPop2020Desc[\"Population_2020\"])\n",
    "# plt.title(\"Population in 2020 by City\")\n",
    "# plt.xlabel(\"City\")\n",
    "# plt.ylabel(\"Population (2020)\")\n",
    "# plt.xticks(rotation=45)\n",
    "# plt.tight_layout()\n",
    "# plt.show()\n",
    "\n",
    "# Bar chart showing the growth percentage\n",
    "# plt.figure(figsize=(8, 5))\n",
    "# plt.bar(citiesBgSortedPop2020Desc[\"City\"], citiesBgSortedPop2020Desc[\"Growth_perc\"])\n",
    "# plt.title(\"Population Growth % (2010-2020, Synthetic Data)\")\n",
    "# plt.xlabel(\"City\")\n",
    "# plt.ylabel(\"Growth %\")\n",
    "# plt.xticks(rotation=45)\n",
    "# plt.tight_layout()\n",
    "# plt.show()\n"
   ]
  }
 ],
 "metadata": {
  "kernelspec": {
   "display_name": "Python 3",
   "language": "python",
   "name": "python3"
  },
  "language_info": {
   "codemirror_mode": {
    "name": "ipython",
    "version": 3
   },
   "file_extension": ".py",
   "mimetype": "text/x-python",
   "name": "python",
   "nbconvert_exporter": "python",
   "pygments_lexer": "ipython3",
   "version": "3.12.3"
  }
 },
 "nbformat": 4,
 "nbformat_minor": 5
}
