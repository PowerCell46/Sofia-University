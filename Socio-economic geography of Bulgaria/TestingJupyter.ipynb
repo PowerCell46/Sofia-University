{
 "cells": [
  {
   "cell_type": "code",
   "execution_count": null,
   "id": "2e364802",
   "metadata": {},
   "outputs": [
    {
     "name": "stdout",
     "output_type": "stream",
     "text": [
      "Population 2020 Mean Value: 231807.69\n",
      "Population 2020 Standard Deviation: 337898.81\n",
      "Total Region Area km2: 1947\n"
     ]
    }
   ],
   "source": [
    "import pandas as pd\n",
    "import matplotlib.pyplot as plt\n",
    "\n",
    "\n",
    "# ! Data from National Statistical Institute (NSI) & Eurostat\n",
    "citiesBulgariaOg = pd.read_csv(\"./citiesBulgaria.csv\")\n",
    "\n",
    "citiesBulgariaOg[\"Growth_perc\"] = ((citiesBulgariaOg[\"Population_2020\"] - citiesBulgariaOg[\"Population_2010\"]) / citiesBulgariaOg[\"Population_2010\"]) * 100\n",
    "\n",
    "# citiesBulgariaOg\n",
    "\n",
    "#=====================#\n",
    "\n",
    "# ! Create a new dataset, ordered by Population_2020 in DESC order\n",
    "citiesBgSortedPop2020Desc = citiesBulgariaOg.sort_values(by=\"Population_2020\", ascending=False)\n",
    "\n",
    "# ! SELECT * FROM ... Where Region = 'Northeast' AND City = 'Varna';\n",
    "# citiesBgSortedPop2020Desc[citiesBgSortedPop2020Desc[\"Region\"] == \"Northeast\"][citiesBgSortedPop2020Desc[\"City\"] == \"Varna\"]\n",
    "\n",
    "# ! SELECT col1, col2, col3... FROM ...;\n",
    "# citiesBgSortedPop2020Desc[[\"City\", \"Growth_perc\", \"Population_2010\", \"Population_2020\"]]\n",
    "\n",
    "\n",
    "print(\"Population 2020 Mean Value:\", round(citiesBgSortedPop2020Desc[\"Population_2020\"].mean(), 2))\n",
    "print(\"Population 2020 Standard Deviation:\", round(citiesBgSortedPop2020Desc[\"Population_2020\"].std(), 2))\n",
    "\n",
    "print(\"Sum area km2:\", round(citiesBgSortedPop2020Desc[\"Area_km2\"].sum(), 2))\n",
    "\n",
    "#=====================#\n",
    "\n",
    "# Create a bar chart: city vs. population in 2020\n",
    "# plt.figure(figsize=(8, 5))\n",
    "# plt.bar(citiesBgSortedPop2020Desc[\"City\"], citiesBgSortedPop2020Desc[\"Population_2020\"])\n",
    "# plt.title(\"Population in 2020 by City\")\n",
    "# plt.xlabel(\"City\")\n",
    "# plt.ylabel(\"Population (2020)\")\n",
    "# plt.xticks(rotation=45)\n",
    "# plt.tight_layout()\n",
    "# plt.show()\n",
    "\n",
    "# Bar chart showing the growth percentage\n",
    "# plt.figure(figsize=(8, 5))\n",
    "# plt.bar(citiesBgSortedPop2020Desc[\"City\"], citiesBgSortedPop2020Desc[\"Growth_perc\"])\n",
    "# plt.title(\"Population Growth % (2010-2020, Synthetic Data)\")\n",
    "# plt.xlabel(\"City\")\n",
    "# plt.ylabel(\"Growth %\")\n",
    "# plt.xticks(rotation=45)\n",
    "# plt.tight_layout()\n",
    "# plt.show()\n"
   ]
  }
 ],
 "metadata": {
  "kernelspec": {
   "display_name": "Python 3",
   "language": "python",
   "name": "python3"
  },
  "language_info": {
   "codemirror_mode": {
    "name": "ipython",
    "version": 3
   },
   "file_extension": ".py",
   "mimetype": "text/x-python",
   "name": "python",
   "nbconvert_exporter": "python",
   "pygments_lexer": "ipython3",
   "version": "3.12.3"
  }
 },
 "nbformat": 4,
 "nbformat_minor": 5
}
